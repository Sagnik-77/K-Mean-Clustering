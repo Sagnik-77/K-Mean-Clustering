{
 "cells": [
  {
   "cell_type": "code",
   "execution_count": 1,
   "id": "d53dce82",
   "metadata": {},
   "outputs": [],
   "source": [
    "import pandas as pd\n",
    "import numpy as np\n",
    "import matplotlib.pyplot as plt\n",
    "%matplotlib inline "
   ]
  },
  {
   "cell_type": "code",
   "execution_count": 2,
   "id": "aabd361f",
   "metadata": {},
   "outputs": [
    {
     "data": {
      "text/html": [
       "<div>\n",
       "<style scoped>\n",
       "    .dataframe tbody tr th:only-of-type {\n",
       "        vertical-align: middle;\n",
       "    }\n",
       "\n",
       "    .dataframe tbody tr th {\n",
       "        vertical-align: top;\n",
       "    }\n",
       "\n",
       "    .dataframe thead th {\n",
       "        text-align: right;\n",
       "    }\n",
       "</style>\n",
       "<table border=\"1\" class=\"dataframe\">\n",
       "  <thead>\n",
       "    <tr style=\"text-align: right;\">\n",
       "      <th></th>\n",
       "      <th>Region</th>\n",
       "      <th>Office Location Id</th>\n",
       "      <th>Indians</th>\n",
       "      <th>Foreigners</th>\n",
       "      <th>Indian_Male</th>\n",
       "      <th>Indian_Female</th>\n",
       "      <th>Foreigners_Male</th>\n",
       "      <th>Foreigners_Female</th>\n",
       "      <th>Total Population</th>\n",
       "    </tr>\n",
       "  </thead>\n",
       "  <tbody>\n",
       "    <tr>\n",
       "      <th>0</th>\n",
       "      <td>Region 31</td>\n",
       "      <td>1</td>\n",
       "      <td>6,43,596</td>\n",
       "      <td>28,83,782</td>\n",
       "      <td>4,40,445</td>\n",
       "      <td>2,03,151</td>\n",
       "      <td>27,63,718</td>\n",
       "      <td>72,515</td>\n",
       "      <td>35,27,378</td>\n",
       "    </tr>\n",
       "    <tr>\n",
       "      <th>1</th>\n",
       "      <td>Region 17</td>\n",
       "      <td>9</td>\n",
       "      <td>3,19,933</td>\n",
       "      <td>15,01,899</td>\n",
       "      <td>2,13,477</td>\n",
       "      <td>1,06,456</td>\n",
       "      <td>14,49,303</td>\n",
       "      <td>27,671</td>\n",
       "      <td>1821832</td>\n",
       "    </tr>\n",
       "    <tr>\n",
       "      <th>2</th>\n",
       "      <td>Region 12</td>\n",
       "      <td>4</td>\n",
       "      <td>1,94,379</td>\n",
       "      <td>6,50,744</td>\n",
       "      <td>1,61,803</td>\n",
       "      <td>32,576</td>\n",
       "      <td>6,31,660</td>\n",
       "      <td>10,652</td>\n",
       "      <td>845123</td>\n",
       "    </tr>\n",
       "    <tr>\n",
       "      <th>3</th>\n",
       "      <td>Region 22</td>\n",
       "      <td>15</td>\n",
       "      <td>1,07,360</td>\n",
       "      <td>4,70,708</td>\n",
       "      <td>85,343</td>\n",
       "      <td>22,017</td>\n",
       "      <td>4,50,267</td>\n",
       "      <td>6,389</td>\n",
       "      <td>578068</td>\n",
       "    </tr>\n",
       "    <tr>\n",
       "      <th>4</th>\n",
       "      <td>Region 23</td>\n",
       "      <td>13</td>\n",
       "      <td>55,351</td>\n",
       "      <td>3,29,980</td>\n",
       "      <td>31,796</td>\n",
       "      <td>23,555</td>\n",
       "      <td>3,25,105</td>\n",
       "      <td>3,684</td>\n",
       "      <td>385331</td>\n",
       "    </tr>\n",
       "    <tr>\n",
       "      <th>5</th>\n",
       "      <td>Region 20</td>\n",
       "      <td>6</td>\n",
       "      <td>55,044</td>\n",
       "      <td>2,02,485</td>\n",
       "      <td>48,310</td>\n",
       "      <td>6,734</td>\n",
       "      <td>1,93,709</td>\n",
       "      <td>1,458</td>\n",
       "      <td>257529</td>\n",
       "    </tr>\n",
       "    <tr>\n",
       "      <th>6</th>\n",
       "      <td>Region 1</td>\n",
       "      <td>11</td>\n",
       "      <td>44,727</td>\n",
       "      <td>2,67,200</td>\n",
       "      <td>36,430</td>\n",
       "      <td>8,297</td>\n",
       "      <td>2,60,089</td>\n",
       "      <td>4,295</td>\n",
       "      <td>311927</td>\n",
       "    </tr>\n",
       "    <tr>\n",
       "      <th>7</th>\n",
       "      <td>Region 24</td>\n",
       "      <td>10</td>\n",
       "      <td>43,437</td>\n",
       "      <td>2,32,626</td>\n",
       "      <td>29,633</td>\n",
       "      <td>13,804</td>\n",
       "      <td>2,27,870</td>\n",
       "      <td>4,417</td>\n",
       "      <td>276063</td>\n",
       "    </tr>\n",
       "    <tr>\n",
       "      <th>8</th>\n",
       "      <td>Region 11</td>\n",
       "      <td>3</td>\n",
       "      <td>35,923</td>\n",
       "      <td>2,17,717</td>\n",
       "      <td>27,005</td>\n",
       "      <td>8,918</td>\n",
       "      <td>2,12,406</td>\n",
       "      <td>3,503</td>\n",
       "      <td>253640</td>\n",
       "    </tr>\n",
       "    <tr>\n",
       "      <th>9</th>\n",
       "      <td>Region 4</td>\n",
       "      <td>8</td>\n",
       "      <td>29,149</td>\n",
       "      <td>1,54,197</td>\n",
       "      <td>19,460</td>\n",
       "      <td>9,689</td>\n",
       "      <td>1,50,462</td>\n",
       "      <td>3,357</td>\n",
       "      <td>183346</td>\n",
       "    </tr>\n",
       "  </tbody>\n",
       "</table>\n",
       "</div>"
      ],
      "text/plain": [
       "      Region  Office Location Id   Indians Foreigners Indian_Male  \\\n",
       "0  Region 31                   1  6,43,596  28,83,782    4,40,445   \n",
       "1  Region 17                   9  3,19,933  15,01,899    2,13,477   \n",
       "2  Region 12                   4  1,94,379   6,50,744    1,61,803   \n",
       "3  Region 22                  15  1,07,360   4,70,708      85,343   \n",
       "4  Region 23                  13    55,351   3,29,980      31,796   \n",
       "5  Region 20                   6    55,044   2,02,485      48,310   \n",
       "6   Region 1                  11    44,727   2,67,200      36,430   \n",
       "7  Region 24                  10    43,437   2,32,626      29,633   \n",
       "8  Region 11                   3    35,923   2,17,717      27,005   \n",
       "9   Region 4                   8    29,149   1,54,197      19,460   \n",
       "\n",
       "  Indian_Female Foreigners_Male Foreigners_Female Total Population  \n",
       "0      2,03,151       27,63,718            72,515        35,27,378  \n",
       "1      1,06,456       14,49,303            27,671          1821832  \n",
       "2        32,576        6,31,660            10,652           845123  \n",
       "3        22,017        4,50,267             6,389           578068  \n",
       "4        23,555        3,25,105             3,684           385331  \n",
       "5         6,734        1,93,709             1,458           257529  \n",
       "6         8,297        2,60,089             4,295           311927  \n",
       "7        13,804        2,27,870             4,417           276063  \n",
       "8         8,918        2,12,406             3,503           253640  \n",
       "9         9,689        1,50,462             3,357           183346  "
      ]
     },
     "execution_count": 2,
     "metadata": {},
     "output_type": "execute_result"
    }
   ],
   "source": [
    "data = pd.read_csv(\"Population_Data.csv\")\n",
    "data.head(10)"
   ]
  },
  {
   "cell_type": "code",
   "execution_count": 3,
   "id": "4201181c",
   "metadata": {},
   "outputs": [
    {
     "name": "stdout",
     "output_type": "stream",
     "text": [
      "<class 'pandas.core.frame.DataFrame'>\n",
      "RangeIndex: 38 entries, 0 to 37\n",
      "Data columns (total 9 columns):\n",
      " #   Column              Non-Null Count  Dtype \n",
      "---  ------              --------------  ----- \n",
      " 0   Region              38 non-null     object\n",
      " 1   Office Location Id  38 non-null     int64 \n",
      " 2   Indians             38 non-null     object\n",
      " 3   Foreigners          38 non-null     object\n",
      " 4   Indian_Male         38 non-null     object\n",
      " 5   Indian_Female       38 non-null     object\n",
      " 6   Foreigners_Male     38 non-null     object\n",
      " 7   Foreigners_Female   38 non-null     object\n",
      " 8   Total Population    38 non-null     object\n",
      "dtypes: int64(1), object(8)\n",
      "memory usage: 2.8+ KB\n"
     ]
    }
   ],
   "source": [
    "data.info()"
   ]
  },
  {
   "cell_type": "markdown",
   "id": "3af3de9b",
   "metadata": {},
   "source": [
    "<p>As we can see the data type of the features are in the object data type. To perform sklearn, we need to convert these object values into numeric data types</p>"
   ]
  },
  {
   "cell_type": "code",
   "execution_count": 4,
   "id": "fa047c20",
   "metadata": {},
   "outputs": [],
   "source": [
    "numeric = [\"Indians\",\"Foreigners\",\n",
    "           \"Indian_Male\",\"Indian_Female\",\n",
    "           \"Foreigners_Female\",\n",
    "           'Foreigners_Male',\"Total Population\"]"
   ]
  },
  {
   "cell_type": "code",
   "execution_count": 5,
   "id": "b6766437",
   "metadata": {},
   "outputs": [],
   "source": [
    "def cleaner(z):\n",
    "  return z.replace(',','')\n",
    "# remove the ',' from the numbers to help us converting"
   ]
  },
  {
   "cell_type": "code",
   "execution_count": 6,
   "id": "ef4bd11e",
   "metadata": {},
   "outputs": [
    {
     "data": {
      "text/plain": [
       "'100234'"
      ]
     },
     "execution_count": 6,
     "metadata": {},
     "output_type": "execute_result"
    }
   ],
   "source": [
    "cleaner('100,234')\n",
    "#testing the fucntion"
   ]
  },
  {
   "cell_type": "code",
   "execution_count": 7,
   "id": "94f46f72",
   "metadata": {},
   "outputs": [
    {
     "data": {
      "text/html": [
       "<div>\n",
       "<style scoped>\n",
       "    .dataframe tbody tr th:only-of-type {\n",
       "        vertical-align: middle;\n",
       "    }\n",
       "\n",
       "    .dataframe tbody tr th {\n",
       "        vertical-align: top;\n",
       "    }\n",
       "\n",
       "    .dataframe thead th {\n",
       "        text-align: right;\n",
       "    }\n",
       "</style>\n",
       "<table border=\"1\" class=\"dataframe\">\n",
       "  <thead>\n",
       "    <tr style=\"text-align: right;\">\n",
       "      <th></th>\n",
       "      <th>Region</th>\n",
       "      <th>Office Location Id</th>\n",
       "      <th>Indians</th>\n",
       "      <th>Foreigners</th>\n",
       "      <th>Indian_Male</th>\n",
       "      <th>Indian_Female</th>\n",
       "      <th>Foreigners_Male</th>\n",
       "      <th>Foreigners_Female</th>\n",
       "      <th>Total Population</th>\n",
       "    </tr>\n",
       "  </thead>\n",
       "  <tbody>\n",
       "    <tr>\n",
       "      <th>0</th>\n",
       "      <td>Region 31</td>\n",
       "      <td>1</td>\n",
       "      <td>643596</td>\n",
       "      <td>2883782</td>\n",
       "      <td>440445</td>\n",
       "      <td>203151</td>\n",
       "      <td>2763718</td>\n",
       "      <td>72515</td>\n",
       "      <td>3527378</td>\n",
       "    </tr>\n",
       "    <tr>\n",
       "      <th>1</th>\n",
       "      <td>Region 17</td>\n",
       "      <td>9</td>\n",
       "      <td>319933</td>\n",
       "      <td>1501899</td>\n",
       "      <td>213477</td>\n",
       "      <td>106456</td>\n",
       "      <td>1449303</td>\n",
       "      <td>27671</td>\n",
       "      <td>1821832</td>\n",
       "    </tr>\n",
       "    <tr>\n",
       "      <th>2</th>\n",
       "      <td>Region 12</td>\n",
       "      <td>4</td>\n",
       "      <td>194379</td>\n",
       "      <td>650744</td>\n",
       "      <td>161803</td>\n",
       "      <td>32576</td>\n",
       "      <td>631660</td>\n",
       "      <td>10652</td>\n",
       "      <td>845123</td>\n",
       "    </tr>\n",
       "    <tr>\n",
       "      <th>3</th>\n",
       "      <td>Region 22</td>\n",
       "      <td>15</td>\n",
       "      <td>107360</td>\n",
       "      <td>470708</td>\n",
       "      <td>85343</td>\n",
       "      <td>22017</td>\n",
       "      <td>450267</td>\n",
       "      <td>6389</td>\n",
       "      <td>578068</td>\n",
       "    </tr>\n",
       "    <tr>\n",
       "      <th>4</th>\n",
       "      <td>Region 23</td>\n",
       "      <td>13</td>\n",
       "      <td>55351</td>\n",
       "      <td>329980</td>\n",
       "      <td>31796</td>\n",
       "      <td>23555</td>\n",
       "      <td>325105</td>\n",
       "      <td>3684</td>\n",
       "      <td>385331</td>\n",
       "    </tr>\n",
       "  </tbody>\n",
       "</table>\n",
       "</div>"
      ],
      "text/plain": [
       "      Region  Office Location Id Indians Foreigners Indian_Male Indian_Female  \\\n",
       "0  Region 31                   1  643596    2883782      440445        203151   \n",
       "1  Region 17                   9  319933    1501899      213477        106456   \n",
       "2  Region 12                   4  194379     650744      161803         32576   \n",
       "3  Region 22                  15  107360     470708       85343         22017   \n",
       "4  Region 23                  13   55351     329980       31796         23555   \n",
       "\n",
       "  Foreigners_Male Foreigners_Female Total Population  \n",
       "0         2763718             72515          3527378  \n",
       "1         1449303             27671          1821832  \n",
       "2          631660             10652           845123  \n",
       "3          450267              6389           578068  \n",
       "4          325105              3684           385331  "
      ]
     },
     "execution_count": 7,
     "metadata": {},
     "output_type": "execute_result"
    }
   ],
   "source": [
    "# applying it onto all the data\n",
    "for i in data[numeric]:\n",
    "  data[i] = data[i].apply(cleaner)\n",
    "\n",
    "data.head()\n"
   ]
  },
  {
   "cell_type": "code",
   "execution_count": 8,
   "id": "f8859476",
   "metadata": {},
   "outputs": [
    {
     "name": "stdout",
     "output_type": "stream",
     "text": [
      "<class 'pandas.core.frame.DataFrame'>\n",
      "RangeIndex: 38 entries, 0 to 37\n",
      "Data columns (total 9 columns):\n",
      " #   Column              Non-Null Count  Dtype \n",
      "---  ------              --------------  ----- \n",
      " 0   Region              38 non-null     object\n",
      " 1   Office Location Id  38 non-null     int64 \n",
      " 2   Indians             38 non-null     object\n",
      " 3   Foreigners          38 non-null     object\n",
      " 4   Indian_Male         38 non-null     object\n",
      " 5   Indian_Female       38 non-null     object\n",
      " 6   Foreigners_Male     38 non-null     object\n",
      " 7   Foreigners_Female   38 non-null     object\n",
      " 8   Total Population    38 non-null     object\n",
      "dtypes: int64(1), object(8)\n",
      "memory usage: 2.8+ KB\n"
     ]
    }
   ],
   "source": [
    "data.info()"
   ]
  },
  {
   "cell_type": "markdown",
   "id": "2d3852a1",
   "metadata": {},
   "source": [
    "<p>After removing the commas(,) our next step will be data type conversion</p>"
   ]
  },
  {
   "cell_type": "code",
   "execution_count": 9,
   "id": "ddfc66c7",
   "metadata": {},
   "outputs": [
    {
     "name": "stdout",
     "output_type": "stream",
     "text": [
      "<class 'pandas.core.frame.DataFrame'>\n",
      "RangeIndex: 38 entries, 0 to 37\n",
      "Data columns (total 9 columns):\n",
      " #   Column              Non-Null Count  Dtype \n",
      "---  ------              --------------  ----- \n",
      " 0   Region              38 non-null     object\n",
      " 1   Office Location Id  38 non-null     int64 \n",
      " 2   Indians             38 non-null     int64 \n",
      " 3   Foreigners          38 non-null     int64 \n",
      " 4   Indian_Male         38 non-null     int64 \n",
      " 5   Indian_Female       38 non-null     int64 \n",
      " 6   Foreigners_Male     38 non-null     int64 \n",
      " 7   Foreigners_Female   38 non-null     int64 \n",
      " 8   Total Population    38 non-null     int64 \n",
      "dtypes: int64(8), object(1)\n",
      "memory usage: 2.8+ KB\n"
     ]
    }
   ],
   "source": [
    "data[numeric] = data[numeric].apply(pd.to_numeric)\n",
    "data.info()\n",
    "\n",
    "# we are using pandas pd.to_numeric method"
   ]
  },
  {
   "cell_type": "markdown",
   "id": "92a00eac",
   "metadata": {},
   "source": [
    "<h4>Verifying integrity of the data</h4>"
   ]
  },
  {
   "cell_type": "code",
   "execution_count": 10,
   "id": "6e915039",
   "metadata": {},
   "outputs": [
    {
     "data": {
      "text/plain": [
       "0"
      ]
     },
     "execution_count": 10,
     "metadata": {},
     "output_type": "execute_result"
    }
   ],
   "source": [
    "data[['Indians','Foreigners']].sum().sum() - data['Total Population'].sum()"
   ]
  },
  {
   "cell_type": "code",
   "execution_count": 11,
   "id": "3e5c0573",
   "metadata": {},
   "outputs": [
    {
     "data": {
      "text/plain": [
       "-112859"
      ]
     },
     "execution_count": 11,
     "metadata": {},
     "output_type": "execute_result"
    }
   ],
   "source": [
    "data[['Indian_Male','Indian_Female',\"Foreigners_Male\",'Foreigners_Female']].sum().sum() - data['Total Population'].sum()"
   ]
  },
  {
   "cell_type": "markdown",
   "id": "9697b52e",
   "metadata": {},
   "source": [
    "<p>Total numbers of Indians+Foreigners, is equal to the value of Total Population. Which suggests integrity of the data.\n",
    "<br> But, We are getting negative integrity while doing the same Gender wise. That means our data is serving a valueable information that in the population data set there are also some people who do not identify themsekves as Male or Female. This particular data can be useful to us depending on the type of campaign the firm wants to run.</p> "
   ]
  },
  {
   "cell_type": "code",
   "execution_count": 13,
   "id": "07f93eee",
   "metadata": {},
   "outputs": [
    {
     "data": {
      "text/html": [
       "<div>\n",
       "<style scoped>\n",
       "    .dataframe tbody tr th:only-of-type {\n",
       "        vertical-align: middle;\n",
       "    }\n",
       "\n",
       "    .dataframe tbody tr th {\n",
       "        vertical-align: top;\n",
       "    }\n",
       "\n",
       "    .dataframe thead th {\n",
       "        text-align: right;\n",
       "    }\n",
       "</style>\n",
       "<table border=\"1\" class=\"dataframe\">\n",
       "  <thead>\n",
       "    <tr style=\"text-align: right;\">\n",
       "      <th></th>\n",
       "      <th>Region</th>\n",
       "      <th>Office Location Id</th>\n",
       "      <th>Indians</th>\n",
       "      <th>Foreigners</th>\n",
       "      <th>Indian_Male</th>\n",
       "      <th>Indian_Female</th>\n",
       "      <th>Foreigners_Male</th>\n",
       "      <th>Foreigners_Female</th>\n",
       "      <th>Total Population</th>\n",
       "      <th>Other</th>\n",
       "    </tr>\n",
       "  </thead>\n",
       "  <tbody>\n",
       "    <tr>\n",
       "      <th>0</th>\n",
       "      <td>Region 31</td>\n",
       "      <td>1</td>\n",
       "      <td>643596</td>\n",
       "      <td>2883782</td>\n",
       "      <td>440445</td>\n",
       "      <td>203151</td>\n",
       "      <td>2763718</td>\n",
       "      <td>72515</td>\n",
       "      <td>3527378</td>\n",
       "      <td>47549</td>\n",
       "    </tr>\n",
       "    <tr>\n",
       "      <th>1</th>\n",
       "      <td>Region 17</td>\n",
       "      <td>9</td>\n",
       "      <td>319933</td>\n",
       "      <td>1501899</td>\n",
       "      <td>213477</td>\n",
       "      <td>106456</td>\n",
       "      <td>1449303</td>\n",
       "      <td>27671</td>\n",
       "      <td>1821832</td>\n",
       "      <td>24925</td>\n",
       "    </tr>\n",
       "    <tr>\n",
       "      <th>2</th>\n",
       "      <td>Region 12</td>\n",
       "      <td>4</td>\n",
       "      <td>194379</td>\n",
       "      <td>650744</td>\n",
       "      <td>161803</td>\n",
       "      <td>32576</td>\n",
       "      <td>631660</td>\n",
       "      <td>10652</td>\n",
       "      <td>845123</td>\n",
       "      <td>8432</td>\n",
       "    </tr>\n",
       "    <tr>\n",
       "      <th>3</th>\n",
       "      <td>Region 22</td>\n",
       "      <td>15</td>\n",
       "      <td>107360</td>\n",
       "      <td>470708</td>\n",
       "      <td>85343</td>\n",
       "      <td>22017</td>\n",
       "      <td>450267</td>\n",
       "      <td>6389</td>\n",
       "      <td>578068</td>\n",
       "      <td>14052</td>\n",
       "    </tr>\n",
       "    <tr>\n",
       "      <th>4</th>\n",
       "      <td>Region 23</td>\n",
       "      <td>13</td>\n",
       "      <td>55351</td>\n",
       "      <td>329980</td>\n",
       "      <td>31796</td>\n",
       "      <td>23555</td>\n",
       "      <td>325105</td>\n",
       "      <td>3684</td>\n",
       "      <td>385331</td>\n",
       "      <td>1191</td>\n",
       "    </tr>\n",
       "    <tr>\n",
       "      <th>5</th>\n",
       "      <td>Region 20</td>\n",
       "      <td>6</td>\n",
       "      <td>55044</td>\n",
       "      <td>202485</td>\n",
       "      <td>48310</td>\n",
       "      <td>6734</td>\n",
       "      <td>193709</td>\n",
       "      <td>1458</td>\n",
       "      <td>257529</td>\n",
       "      <td>7318</td>\n",
       "    </tr>\n",
       "    <tr>\n",
       "      <th>6</th>\n",
       "      <td>Region 1</td>\n",
       "      <td>11</td>\n",
       "      <td>44727</td>\n",
       "      <td>267200</td>\n",
       "      <td>36430</td>\n",
       "      <td>8297</td>\n",
       "      <td>260089</td>\n",
       "      <td>4295</td>\n",
       "      <td>311927</td>\n",
       "      <td>2816</td>\n",
       "    </tr>\n",
       "    <tr>\n",
       "      <th>7</th>\n",
       "      <td>Region 24</td>\n",
       "      <td>10</td>\n",
       "      <td>43437</td>\n",
       "      <td>232626</td>\n",
       "      <td>29633</td>\n",
       "      <td>13804</td>\n",
       "      <td>227870</td>\n",
       "      <td>4417</td>\n",
       "      <td>276063</td>\n",
       "      <td>339</td>\n",
       "    </tr>\n",
       "    <tr>\n",
       "      <th>8</th>\n",
       "      <td>Region 11</td>\n",
       "      <td>3</td>\n",
       "      <td>35923</td>\n",
       "      <td>217717</td>\n",
       "      <td>27005</td>\n",
       "      <td>8918</td>\n",
       "      <td>212406</td>\n",
       "      <td>3503</td>\n",
       "      <td>253640</td>\n",
       "      <td>1808</td>\n",
       "    </tr>\n",
       "    <tr>\n",
       "      <th>9</th>\n",
       "      <td>Region 4</td>\n",
       "      <td>8</td>\n",
       "      <td>29149</td>\n",
       "      <td>154197</td>\n",
       "      <td>19460</td>\n",
       "      <td>9689</td>\n",
       "      <td>150462</td>\n",
       "      <td>3357</td>\n",
       "      <td>183346</td>\n",
       "      <td>378</td>\n",
       "    </tr>\n",
       "  </tbody>\n",
       "</table>\n",
       "</div>"
      ],
      "text/plain": [
       "      Region  Office Location Id  Indians  Foreigners  Indian_Male  \\\n",
       "0  Region 31                   1   643596     2883782       440445   \n",
       "1  Region 17                   9   319933     1501899       213477   \n",
       "2  Region 12                   4   194379      650744       161803   \n",
       "3  Region 22                  15   107360      470708        85343   \n",
       "4  Region 23                  13    55351      329980        31796   \n",
       "5  Region 20                   6    55044      202485        48310   \n",
       "6   Region 1                  11    44727      267200        36430   \n",
       "7  Region 24                  10    43437      232626        29633   \n",
       "8  Region 11                   3    35923      217717        27005   \n",
       "9   Region 4                   8    29149      154197        19460   \n",
       "\n",
       "   Indian_Female  Foreigners_Male  Foreigners_Female  Total Population  Other  \n",
       "0         203151          2763718              72515           3527378  47549  \n",
       "1         106456          1449303              27671           1821832  24925  \n",
       "2          32576           631660              10652            845123   8432  \n",
       "3          22017           450267               6389            578068  14052  \n",
       "4          23555           325105               3684            385331   1191  \n",
       "5           6734           193709               1458            257529   7318  \n",
       "6           8297           260089               4295            311927   2816  \n",
       "7          13804           227870               4417            276063    339  \n",
       "8           8918           212406               3503            253640   1808  \n",
       "9           9689           150462               3357            183346    378  "
      ]
     },
     "execution_count": 13,
     "metadata": {},
     "output_type": "execute_result"
    }
   ],
   "source": [
    "# Calculating total numbers of Male and Female in the population\n",
    "MF_sum = data['Indian_Male'] + data['Indian_Female'] + data[\"Foreigners_Male\"] + data['Foreigners_Female']\n",
    "# Calculating number of 'Other's\n",
    "data['Other'] = data['Total Population'] - MF_sum\n",
    "data.head(10)"
   ]
  },
  {
   "cell_type": "markdown",
   "id": "14dea2b2",
   "metadata": {},
   "source": [
    "<h4>Feature Scaling</h4>"
   ]
  },
  {
   "cell_type": "code",
   "execution_count": 14,
   "id": "ae647ddf",
   "metadata": {},
   "outputs": [
    {
     "data": {
      "text/plain": [
       "(38, 38)"
      ]
     },
     "execution_count": 14,
     "metadata": {},
     "output_type": "execute_result"
    }
   ],
   "source": [
    "data['Region'].nunique(),data['Office Location Id'].nunique()"
   ]
  },
  {
   "cell_type": "code",
   "execution_count": 15,
   "id": "bb398d96",
   "metadata": {},
   "outputs": [
    {
     "data": {
      "text/html": [
       "<div>\n",
       "<style scoped>\n",
       "    .dataframe tbody tr th:only-of-type {\n",
       "        vertical-align: middle;\n",
       "    }\n",
       "\n",
       "    .dataframe tbody tr th {\n",
       "        vertical-align: top;\n",
       "    }\n",
       "\n",
       "    .dataframe thead th {\n",
       "        text-align: right;\n",
       "    }\n",
       "</style>\n",
       "<table border=\"1\" class=\"dataframe\">\n",
       "  <thead>\n",
       "    <tr style=\"text-align: right;\">\n",
       "      <th></th>\n",
       "      <th>Indians</th>\n",
       "      <th>Foreigners</th>\n",
       "      <th>Indian_Male</th>\n",
       "      <th>Indian_Female</th>\n",
       "      <th>Foreigners_Male</th>\n",
       "      <th>Foreigners_Female</th>\n",
       "      <th>Other</th>\n",
       "    </tr>\n",
       "  </thead>\n",
       "  <tbody>\n",
       "    <tr>\n",
       "      <th>0</th>\n",
       "      <td>643596</td>\n",
       "      <td>2883782</td>\n",
       "      <td>440445</td>\n",
       "      <td>203151</td>\n",
       "      <td>2763718</td>\n",
       "      <td>72515</td>\n",
       "      <td>47549</td>\n",
       "    </tr>\n",
       "    <tr>\n",
       "      <th>1</th>\n",
       "      <td>319933</td>\n",
       "      <td>1501899</td>\n",
       "      <td>213477</td>\n",
       "      <td>106456</td>\n",
       "      <td>1449303</td>\n",
       "      <td>27671</td>\n",
       "      <td>24925</td>\n",
       "    </tr>\n",
       "    <tr>\n",
       "      <th>2</th>\n",
       "      <td>194379</td>\n",
       "      <td>650744</td>\n",
       "      <td>161803</td>\n",
       "      <td>32576</td>\n",
       "      <td>631660</td>\n",
       "      <td>10652</td>\n",
       "      <td>8432</td>\n",
       "    </tr>\n",
       "    <tr>\n",
       "      <th>3</th>\n",
       "      <td>107360</td>\n",
       "      <td>470708</td>\n",
       "      <td>85343</td>\n",
       "      <td>22017</td>\n",
       "      <td>450267</td>\n",
       "      <td>6389</td>\n",
       "      <td>14052</td>\n",
       "    </tr>\n",
       "    <tr>\n",
       "      <th>4</th>\n",
       "      <td>55351</td>\n",
       "      <td>329980</td>\n",
       "      <td>31796</td>\n",
       "      <td>23555</td>\n",
       "      <td>325105</td>\n",
       "      <td>3684</td>\n",
       "      <td>1191</td>\n",
       "    </tr>\n",
       "  </tbody>\n",
       "</table>\n",
       "</div>"
      ],
      "text/plain": [
       "   Indians  Foreigners  Indian_Male  Indian_Female  Foreigners_Male  \\\n",
       "0   643596     2883782       440445         203151          2763718   \n",
       "1   319933     1501899       213477         106456          1449303   \n",
       "2   194379      650744       161803          32576           631660   \n",
       "3   107360      470708        85343          22017           450267   \n",
       "4    55351      329980        31796          23555           325105   \n",
       "\n",
       "   Foreigners_Female  Other  \n",
       "0              72515  47549  \n",
       "1              27671  24925  \n",
       "2              10652   8432  \n",
       "3               6389  14052  \n",
       "4               3684   1191  "
      ]
     },
     "execution_count": 15,
     "metadata": {},
     "output_type": "execute_result"
    }
   ],
   "source": [
    "data1 = data.drop(columns = ['Region',\"Office Location Id\", 'Total Population'])\n",
    "data1.head()"
   ]
  },
  {
   "cell_type": "markdown",
   "id": "6169ad91",
   "metadata": {},
   "source": [
    "<h3>Normalizing the data</h3>"
   ]
  },
  {
   "cell_type": "code",
   "execution_count": 17,
   "id": "45366628",
   "metadata": {},
   "outputs": [
    {
     "data": {
      "text/html": [
       "<div>\n",
       "<style scoped>\n",
       "    .dataframe tbody tr th:only-of-type {\n",
       "        vertical-align: middle;\n",
       "    }\n",
       "\n",
       "    .dataframe tbody tr th {\n",
       "        vertical-align: top;\n",
       "    }\n",
       "\n",
       "    .dataframe thead th {\n",
       "        text-align: right;\n",
       "    }\n",
       "</style>\n",
       "<table border=\"1\" class=\"dataframe\">\n",
       "  <thead>\n",
       "    <tr style=\"text-align: right;\">\n",
       "      <th></th>\n",
       "      <th>Indians</th>\n",
       "      <th>Foreigners</th>\n",
       "      <th>Indian_Male</th>\n",
       "      <th>Indian_Female</th>\n",
       "      <th>Foreigners_Male</th>\n",
       "      <th>Foreigners_Female</th>\n",
       "      <th>Other</th>\n",
       "    </tr>\n",
       "  </thead>\n",
       "  <tbody>\n",
       "    <tr>\n",
       "      <th>0</th>\n",
       "      <td>0.157911</td>\n",
       "      <td>0.707555</td>\n",
       "      <td>0.108066</td>\n",
       "      <td>0.049844</td>\n",
       "      <td>0.678096</td>\n",
       "      <td>0.017792</td>\n",
       "      <td>0.011666</td>\n",
       "    </tr>\n",
       "    <tr>\n",
       "      <th>1</th>\n",
       "      <td>0.150537</td>\n",
       "      <td>0.706682</td>\n",
       "      <td>0.100446</td>\n",
       "      <td>0.050090</td>\n",
       "      <td>0.681934</td>\n",
       "      <td>0.013020</td>\n",
       "      <td>0.011728</td>\n",
       "    </tr>\n",
       "    <tr>\n",
       "      <th>2</th>\n",
       "      <td>0.206311</td>\n",
       "      <td>0.690691</td>\n",
       "      <td>0.171736</td>\n",
       "      <td>0.034576</td>\n",
       "      <td>0.670436</td>\n",
       "      <td>0.011306</td>\n",
       "      <td>0.008950</td>\n",
       "    </tr>\n",
       "    <tr>\n",
       "      <th>3</th>\n",
       "      <td>0.161150</td>\n",
       "      <td>0.706543</td>\n",
       "      <td>0.128102</td>\n",
       "      <td>0.033048</td>\n",
       "      <td>0.675861</td>\n",
       "      <td>0.009590</td>\n",
       "      <td>0.021092</td>\n",
       "    </tr>\n",
       "    <tr>\n",
       "      <th>4</th>\n",
       "      <td>0.118217</td>\n",
       "      <td>0.704763</td>\n",
       "      <td>0.067909</td>\n",
       "      <td>0.050308</td>\n",
       "      <td>0.694351</td>\n",
       "      <td>0.007868</td>\n",
       "      <td>0.002544</td>\n",
       "    </tr>\n",
       "  </tbody>\n",
       "</table>\n",
       "</div>"
      ],
      "text/plain": [
       "    Indians  Foreigners  Indian_Male  Indian_Female  Foreigners_Male  \\\n",
       "0  0.157911    0.707555     0.108066       0.049844         0.678096   \n",
       "1  0.150537    0.706682     0.100446       0.050090         0.681934   \n",
       "2  0.206311    0.690691     0.171736       0.034576         0.670436   \n",
       "3  0.161150    0.706543     0.128102       0.033048         0.675861   \n",
       "4  0.118217    0.704763     0.067909       0.050308         0.694351   \n",
       "\n",
       "   Foreigners_Female     Other  \n",
       "0           0.017792  0.011666  \n",
       "1           0.013020  0.011728  \n",
       "2           0.011306  0.008950  \n",
       "3           0.009590  0.021092  \n",
       "4           0.007868  0.002544  "
      ]
     },
     "execution_count": 17,
     "metadata": {},
     "output_type": "execute_result"
    }
   ],
   "source": [
    "from sklearn.preprocessing import Normalizer\n",
    "norm = Normalizer()\n",
    "columns = data1.columns\n",
    "data1 = norm.fit_transform(data1)\n",
    "\n",
    "data1 = pd.DataFrame(data1, columns = columns)\n",
    "data1.head()"
   ]
  },
  {
   "cell_type": "markdown",
   "id": "956bf8c7",
   "metadata": {},
   "source": [
    "<h3>Finding the proper K-Mean value</h3>"
   ]
  },
  {
   "cell_type": "code",
   "execution_count": 18,
   "id": "ff1e8e72",
   "metadata": {},
   "outputs": [],
   "source": [
    "from sklearn.cluster import KMeans\n",
    "kmeans = KMeans(n_clusters=2)\n",
    "kmeans.fit(data1)\n",
    "pred=kmeans.predict(data1)"
   ]
  },
  {
   "cell_type": "code",
   "execution_count": 19,
   "id": "ff3f5e95",
   "metadata": {},
   "outputs": [
    {
     "data": {
      "text/plain": [
       "(array([1, 1, 1, 1, 0, 1, 0, 0, 0, 0, 1, 0, 0, 0, 0, 1, 0, 0, 0, 0, 0, 0,\n",
       "        0, 0, 0, 0, 0, 0, 0, 0, 0, 0, 0, 0, 0, 1, 0, 0]),\n",
       " 38)"
      ]
     },
     "execution_count": 19,
     "metadata": {},
     "output_type": "execute_result"
    }
   ],
   "source": [
    "pred, len(pred)"
   ]
  },
  {
   "cell_type": "code",
   "execution_count": 20,
   "id": "4433e3f8",
   "metadata": {},
   "outputs": [
    {
     "data": {
      "text/plain": [
       "0    30\n",
       "1     8\n",
       "dtype: int64"
      ]
     },
     "execution_count": 20,
     "metadata": {},
     "output_type": "execute_result"
    }
   ],
   "source": [
    "pd.Series(pred).value_counts()"
   ]
  },
  {
   "cell_type": "code",
   "execution_count": 21,
   "id": "f5ec9119",
   "metadata": {},
   "outputs": [
    {
     "data": {
      "text/plain": [
       "0.028113285898827122"
      ]
     },
     "execution_count": 21,
     "metadata": {},
     "output_type": "execute_result"
    }
   ],
   "source": [
    "kmeans.inertia_"
   ]
  },
  {
   "cell_type": "code",
   "execution_count": 34,
   "id": "a9abebba",
   "metadata": {},
   "outputs": [],
   "source": [
    "import warnings\n",
    "warnings.filterwarnings('ignore')"
   ]
  },
  {
   "cell_type": "code",
   "execution_count": 36,
   "id": "ccc606f1",
   "metadata": {},
   "outputs": [],
   "source": [
    "SSE = []\n",
    "for cluster in range(1,10):\n",
    "    kmeans = KMeans(n_jobs = -1, n_clusters = cluster)\n",
    "    kmeans.fit(data1)\n",
    "    SSE.append(kmeans.inertia_)"
   ]
  },
  {
   "cell_type": "code",
   "execution_count": 37,
   "id": "7016af5e",
   "metadata": {},
   "outputs": [],
   "source": [
    "frame = pd.DataFrame({'Cluster':range(1,10), 'SSE':SSE})"
   ]
  },
  {
   "cell_type": "code",
   "execution_count": 38,
   "id": "068021c0",
   "metadata": {},
   "outputs": [
    {
     "data": {
      "text/plain": [
       "Text(0, 0.5, 'Inertia')"
      ]
     },
     "execution_count": 38,
     "metadata": {},
     "output_type": "execute_result"
    },
    {
     "data": {
      "image/png": "[encoded data removed]",
      "text/plain": [
       "<Figure size 864x432 with 1 Axes>"
      ]
     },
     "metadata": {
      "needs_background": "light"
     },
     "output_type": "display_data"
    }
   ],
   "source": [
    "plt.figure(figsize=(12,6))\n",
    "plt.plot(frame['Cluster'], frame['SSE'], marker='o')\n",
    "plt.xlabel('Number of clusters')\n",
    "plt.ylabel('Inertia')"
   ]
  },
  {
   "cell_type": "code",
   "execution_count": 39,
   "id": "524cce1c",
   "metadata": {},
   "outputs": [],
   "source": [
    "kmeans = KMeans(n_clusters=3)\n",
    "kmeans.fit(data1)\n",
    "pred=kmeans.predict(data1)"
   ]
  },
  {
   "cell_type": "code",
   "execution_count": 40,
   "id": "858e40f6",
   "metadata": {},
   "outputs": [],
   "source": [
    "data1['cluster'] = pred"
   ]
  },
  {
   "cell_type": "code",
   "execution_count": 41,
   "id": "6780b9ff",
   "metadata": {},
   "outputs": [],
   "source": [
    "def seg(str_x, str_y, clusters):\n",
    "  x = []\n",
    "  y = []\n",
    "\n",
    "  for i in range(clusters):\n",
    "    x.append(data1[str_x][data1['cluster']==i])\n",
    "    y.append(data1[str_y][data1['cluster']==i])\n",
    "  \n",
    "  return x,y\n",
    "\n",
    "def plot_clusters(str_x, str_y, clusters):\n",
    "  plt.figure(figsize = (5,5), dpi = 120)\n",
    "  \n",
    "  x,y = seg(str_x, str_y, clusters)\n",
    "\n",
    "  for i in range(clusters):\n",
    "    plt.scatter(x[i], y[i], label = 'cluster{}'.format(i))\n",
    "  \n",
    "  plt.xlabel(str_x)\n",
    "  plt.ylabel(str_y)\n",
    "  plt.title(str(str_x+\" Vs \"+str_y))\n",
    "  plt.legend()"
   ]
  },
  {
   "cell_type": "code",
   "execution_count": 42,
   "id": "5de3f677",
   "metadata": {},
   "outputs": [
    {
     "data": {
      "image/png": "[encoded data removed]",
      "text/plain": [
       "<Figure size 600x600 with 1 Axes>"
      ]
     },
     "metadata": {
      "needs_background": "light"
     },
     "output_type": "display_data"
    }
   ],
   "source": [
    "plot_clusters('Indians', 'Foreigners',3)"
   ]
  },
  {
   "cell_type": "code",
   "execution_count": 43,
   "id": "c342bb23",
   "metadata": {},
   "outputs": [
    {
     "data": {
      "image/png": "[encoded data removed]",
      "text/plain": [
       "<Figure size 600x600 with 1 Axes>"
      ]
     },
     "metadata": {
      "needs_background": "light"
     },
     "output_type": "display_data"
    }
   ],
   "source": [
    "plot_clusters('Indian_Male', 'Foreigners_Male',3)"
   ]
  },
  {
   "cell_type": "code",
   "execution_count": 44,
   "id": "85545e96",
   "metadata": {},
   "outputs": [
    {
     "data": {
      "image/png": "[encoded data removed]",
      "text/plain": [
       "<Figure size 600x600 with 1 Axes>"
      ]
     },
     "metadata": {
      "needs_background": "light"
     },
     "output_type": "display_data"
    }
   ],
   "source": [
    "plot_clusters('Indian_Female', 'Foreigners_Female',3)"
   ]
  },
  {
   "cell_type": "code",
   "execution_count": 46,
   "id": "622b7d9c",
   "metadata": {},
   "outputs": [
    {
     "data": {
      "image/png": "[encoded data removed]",
      "text/plain": [
       "<Figure size 600x600 with 1 Axes>"
      ]
     },
     "metadata": {
      "needs_background": "light"
     },
     "output_type": "display_data"
    }
   ],
   "source": [
    "plot_clusters('Indian_Male','Indian_Female',3)"
   ]
  },
  {
   "cell_type": "code",
   "execution_count": 48,
   "id": "b3cca12f",
   "metadata": {},
   "outputs": [
    {
     "data": {
      "image/png": "[encoded data removed]",
      "text/plain": [
       "<Figure size 600x600 with 1 Axes>"
      ]
     },
     "metadata": {
      "needs_background": "light"
     },
     "output_type": "display_data"
    }
   ],
   "source": [
    "plot_clusters('Foreigners_Male','Foreigners_Female',3)"
   ]
  },
  {
   "cell_type": "code",
   "execution_count": 45,
   "id": "2a34f03a",
   "metadata": {},
   "outputs": [
    {
     "data": {
      "image/png": "[encoded data removed]",
      "text/plain": [
       "<Figure size 600x600 with 1 Axes>"
      ]
     },
     "metadata": {
      "needs_background": "light"
     },
     "output_type": "display_data"
    }
   ],
   "source": [
    "plot_clusters('Other', 'Indians',3)"
   ]
  },
  {
   "cell_type": "code",
   "execution_count": null,
   "id": "fabc0c5d",
   "metadata": {},
   "outputs": [],
   "source": []
  }
 ],
 "metadata": {
  "kernelspec": {
   "display_name": "Python 3 (ipykernel)",
   "language": "python",
   "name": "python3"
  },
  "language_info": {
   "codemirror_mode": {
    "name": "ipython",
    "version": 3
   },
   "file_extension": ".py",
   "mimetype": "text/x-python",
   "name": "python",
   "nbconvert_exporter": "python",
   "pygments_lexer": "ipython3",
   "version": "3.9.7"
  }
 },
 "nbformat": 4,
 "nbformat_minor": 5
}
